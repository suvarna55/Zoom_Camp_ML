{
  "metadata": {
    "kernelspec": {
      "name": "python",
      "display_name": "Python (Pyodide)",
      "language": "python"
    },
    "language_info": {
      "codemirror_mode": {
        "name": "python",
        "version": 3
      },
      "file_extension": ".py",
      "mimetype": "text/x-python",
      "name": "python",
      "nbconvert_exporter": "python",
      "pygments_lexer": "ipython3",
      "version": "3.8"
    }
  },
  "nbformat_minor": 4,
  "nbformat": 4,
  "cells": [
    {
      "cell_type": "code",
      "source": "import pandas as pd\nimport numpy as np\nfrom matplotlib import pyplot as plt",
      "metadata": {
        "trusted": true
      },
      "outputs": [
        {
          "name": "stderr",
          "text": "<ipython-input-1-b05d1717aef3>:1: DeprecationWarning: \nPyarrow will become a required dependency of pandas in the next major release of pandas (pandas 3.0),\n(to allow more performant data types, such as the Arrow string type, and better interoperability with other libraries)\nbut was not found to be installed on your system.\nIf this would cause problems for you,\nplease provide us feedback at https://github.com/pandas-dev/pandas/issues/54466\n        \n  import pandas as pd\n",
          "output_type": "stream"
        }
      ],
      "execution_count": 1
    },
    {
      "cell_type": "code",
      "source": "df = pd.read_csv('bank-full.csv',sep=';')\n\ndf.columns =df.columns.str.lower().str.replace(' ','_')\nprint(\"--------------------------- This is dataframe----------------------------------\")\nprint(\"\\n\",df.head().T)\n#print(\"-----------------------------this is data types-------------------------------\")\n#print(\"this is data types\\n\",df.dtypes)\nprint(\"-------------------------------------------------------------\")\n\n#replacing the boolean yes no with numeric value in the Y variable\ndf['y'] = (df['y'] =='yes').astype(int)\n#print(df['y'].tail(25))\n\n#df['poutcome'].unique()",
      "metadata": {
        "trusted": true
      },
      "outputs": [
        {
          "name": "stdout",
          "text": "--------------------------- This is dataframe----------------------------------\n\n                     0           1             2            3        4\nage                58          44            33           47       33\njob        management  technician  entrepreneur  blue-collar  unknown\nmarital       married      single       married      married   single\neducation    tertiary   secondary     secondary      unknown  unknown\ndefault            no          no            no           no       no\nbalance          2143          29             2         1506        1\nhousing           yes         yes           yes          yes       no\nloan               no          no           yes           no       no\ncontact       unknown     unknown       unknown      unknown  unknown\nday                 5           5             5            5        5\nmonth             may         may           may          may      may\nduration          261         151            76           92      198\ncampaign            1           1             1            1        1\npdays              -1          -1            -1           -1       -1\nprevious            0           0             0            0        0\npoutcome      unknown     unknown       unknown      unknown  unknown\ny                  no          no            no           no       no\n-------------------------------------------------------------\n",
          "output_type": "stream"
        }
      ],
      "execution_count": 319
    },
    {
      "cell_type": "markdown",
      "source": "# Question 1\nWhat is the most frequent observation (mode) for the column education?",
      "metadata": {}
    },
    {
      "cell_type": "code",
      "source": "edu=df['education'].mode()\nprint(\"This is 'mode' for column 'Education'\\n\", edu)",
      "metadata": {
        "trusted": true
      },
      "outputs": [
        {
          "name": "stdout",
          "text": "This is 'mode' for column 'Education'\n 0    secondary\nName: education, dtype: object\n",
          "output_type": "stream"
        }
      ],
      "execution_count": 346
    },
    {
      "cell_type": "markdown",
      "source": "# Question 2\nWhat are the two features that have the biggest correlation?",
      "metadata": {}
    },
    {
      "cell_type": "code",
      "source": "from sklearn.model_selection import train_test_split\ndf3=df.copy()\n#print(df3)\n#df3=df3.drop(['y'], axis=1)\ndf3=df3\ndf_train_full, df_test = train_test_split(df3, test_size=0.2, random_state=1)\ndf_train, df_val = train_test_split(df_train_full, test_size=0.25, random_state=42)\ny_train = df_train.y.values\ny_val = df_val.y.values\ny_test =df_test.y.values\ndel df_train['y']\ndel df_val['y']\ndf_train_full.isnull().sum()\ndf_train_full.y.value_counts()\nglobal_mean = df_train_full.y.mean()\nprint('this is global mean',round(global_mean, 3))\nnumerical = ['age','balance','day','campaign','pdays','previous']\nprint(\"correlation of pdays with previous -->\",df_train_full['pdays'].corr(df_train_full.previous))\nprint(\"correlation of day with campaign -->\",df_train_full['day'].corr(df_train_full.campaign))\nprint(\"correlation of age with balance -->\",df_train_full['age'].corr(df_train_full.balance))\nprint(\"correlation of day with pdays -->\",df_train_full['day'].corr(df_train_full.pdays))\n",
      "metadata": {
        "trusted": true
      },
      "outputs": [
        {
          "name": "stdout",
          "text": "this is global mean 0.117\ncorrelation of pdays with previous --> 0.43721982236032464\ncorrelation of day with campaign --> 0.16565234398276027\ncorrelation of age with balance --> 0.10259640144442296\ncorrelation of day with pdays --> -0.0918694162196096\n",
          "output_type": "stream"
        }
      ],
      "execution_count": 349
    },
    {
      "cell_type": "markdown",
      "source": "# Question 3\n\n## Which of these variables has the biggest mutual information score?",
      "metadata": {}
    },
    {
      "cell_type": "code",
      "source": "from sklearn.metrics import mutual_info_score\ncategorical = ['job','marital','education','default','housing','loan','contact','month','poutcome']\ndf_train_full[categorical].nunique()\n\ndf_group1 = df_train_full.groupby(by='education').y.agg(['mean'])\nprint('\\n',round(df_group1,2))\ndf_group2 = df_train_full.groupby(by='poutcome').y.agg(['mean'])\nprint('\\n',round(df_group2,2))\ndf_group3 = df_train_full.groupby(by='contact').y.agg(['mean'])\nprint('\\n',round(df_group3,2))\ndf_group4 = df_train_full.groupby(by='housing').y.agg(['mean'])\nprint('\\n',round(df_group4,2))\n\ndef calculate_mi(series):\n    return mutual_info_score(series, df_train_full.y)\n\ndf_mi = df_train_full[categorical].apply(calculate_mi)\ndf_mi = df_mi.sort_values(ascending=False).to_frame(name='Mutual Information')\n\n\n#display(df_mi.head())\n#display(df_mi.tail())\ndisplay(df_mi)\n\n",
      "metadata": {
        "trusted": true
      },
      "outputs": [
        {
          "name": "stdout",
          "text": "\n            mean\neducation      \nprimary    0.09\nsecondary  0.11\ntertiary   0.15\nunknown    0.14\n\n           mean\npoutcome      \nfailure   0.13\nother     0.16\nsuccess   0.65\nunknown   0.09\n\n            mean\ncontact        \ncellular   0.15\ntelephone  0.14\nunknown    0.04\n\n          mean\nhousing      \nno       0.17\nyes      0.08\n",
          "output_type": "stream"
        },
        {
          "output_type": "display_data",
          "data": {
            "text/plain": "           Mutual Information\npoutcome             0.028893\nmonth                0.024718\ncontact              0.013041\nhousing              0.009551\njob                  0.008437\nloan                 0.002641\neducation            0.002564\nmarital              0.001980\ndefault              0.000407",
            "text/html": "<div>\n<style scoped>\n    .dataframe tbody tr th:only-of-type {\n        vertical-align: middle;\n    }\n\n    .dataframe tbody tr th {\n        vertical-align: top;\n    }\n\n    .dataframe thead th {\n        text-align: right;\n    }\n</style>\n<table border=\"1\" class=\"dataframe\">\n  <thead>\n    <tr style=\"text-align: right;\">\n      <th></th>\n      <th>Mutual Information</th>\n    </tr>\n  </thead>\n  <tbody>\n    <tr>\n      <th>poutcome</th>\n      <td>0.028893</td>\n    </tr>\n    <tr>\n      <th>month</th>\n      <td>0.024718</td>\n    </tr>\n    <tr>\n      <th>contact</th>\n      <td>0.013041</td>\n    </tr>\n    <tr>\n      <th>housing</th>\n      <td>0.009551</td>\n    </tr>\n    <tr>\n      <th>job</th>\n      <td>0.008437</td>\n    </tr>\n    <tr>\n      <th>loan</th>\n      <td>0.002641</td>\n    </tr>\n    <tr>\n      <th>education</th>\n      <td>0.002564</td>\n    </tr>\n    <tr>\n      <th>marital</th>\n      <td>0.001980</td>\n    </tr>\n    <tr>\n      <th>default</th>\n      <td>0.000407</td>\n    </tr>\n  </tbody>\n</table>\n</div>"
          },
          "metadata": {}
        }
      ],
      "execution_count": 350
    },
    {
      "cell_type": "markdown",
      "source": "# Question 4\n## What accuracy did you get?",
      "metadata": {}
    },
    {
      "cell_type": "code",
      "source": "from sklearn.feature_extraction import DictVectorizer\nfrom sklearn.linear_model import LogisticRegression\n#print(df_train)\ntrain_dict = df_train[categorical + numerical].to_dict(orient='records')\ntrain_dict[0]\ndv = DictVectorizer(sparse=False)\ndv.fit(train_dict)\nX_train = dv.transform(train_dict)\nX_train.shape\ndv.get_feature_names_out()\nmodel = LogisticRegression(solver='liblinear', C=1.0, max_iter=1000, random_state=42)\n#model = LogisticRegression(solver='liblinear', random_state=1)\nmodel.fit(X_train, y_train)\nval_dict = df_val[categorical + numerical].to_dict(orient='records')\nX_val = dv.transform(val_dict)\nmodel.predict_proba(X_val)\n\ny_pred = model.predict_proba(X_val)[:, 1]\ny_pred\nchurn = y_pred > 0.5\nacc=(y_val == churn).mean()\nround(acc,4)",
      "metadata": {
        "trusted": true
      },
      "outputs": [
        {
          "execution_count": 351,
          "output_type": "execute_result",
          "data": {
            "text/plain": "0.8949"
          },
          "metadata": {}
        }
      ],
      "execution_count": 351
    },
    {
      "cell_type": "markdown",
      "source": "# Question 5\n## Which of following feature has the smallest difference?",
      "metadata": {}
    },
    {
      "cell_type": "code",
      "source": "least=df_train_full[numerical].corrwith(df_train_full.y).abs().sort_values(ascending=False)\nprint('list of features\\n',least)\nprint(f\"least important feature is age : {least.iloc[5]}\")\n#least.iloc[5]",
      "metadata": {
        "trusted": true
      },
      "outputs": [
        {
          "name": "stdout",
          "text": "list of features\n pdays       0.101045\nprevious    0.087392\ncampaign    0.072134\nbalance     0.055252\nday         0.030624\nage         0.024931\ndtype: float64\nleast important feature is age : 0.02493100896982028\n",
          "output_type": "stream"
        }
      ],
      "execution_count": 352
    },
    {
      "cell_type": "markdown",
      "source": "# Question 6\n## Which of these C leads to the best accuracy on the validation set?",
      "metadata": {}
    },
    {
      "cell_type": "code",
      "source": "full_train=df_train_full[categorical + numerical].to_dict(orient='records')\ndv=DictVectorizer(sparse=False)\nX_full_train=dv.fit_transform(full_train)\nY_full_train=df_train_full.y.values\nmodel = LogisticRegression(solver='liblinear', C=100, max_iter=1000, random_state=42)\nmodel.fit(X_full_train,Y_full_train)\ndicts_test=df_test[categorical + numerical].to_dict(orient='records')\nX_test=dv.transform(dicts_test)\ny_pred= model.predict_proba(X_test)[:,1]\nfd_decision = (y_pred > 0.5)\n(fd_decision == y_test).mean()",
      "metadata": {
        "trusted": true
      },
      "outputs": [
        {
          "execution_count": 353,
          "output_type": "execute_result",
          "data": {
            "text/plain": "0.893177043016698"
          },
          "metadata": {}
        }
      ],
      "execution_count": 353
    },
    {
      "cell_type": "code",
      "source": "",
      "metadata": {
        "trusted": true
      },
      "outputs": [],
      "execution_count": null
    }
  ]
}